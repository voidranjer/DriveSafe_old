{
 "cells": [
  {
   "cell_type": "markdown",
   "id": "e23e52d8-7959-4323-be4b-f0225396487c",
   "metadata": {},
   "source": [
    "# Extract Frames from a Video file"
   ]
  },
  {
   "cell_type": "code",
   "execution_count": 1,
   "id": "87513192-cbde-4832-8670-758d224c83dc",
   "metadata": {},
   "outputs": [],
   "source": [
    "import os\n",
    "import cv2\n",
    "from utils.frames import count_frames"
   ]
  },
  {
   "cell_type": "markdown",
   "id": "32316cac-0fdc-41da-8236-95c1e12704b3",
   "metadata": {},
   "source": [
    "# Config Variables"
   ]
  },
  {
   "cell_type": "code",
   "execution_count": 2,
   "id": "86561089-51df-45ef-be15-a324f3ad2a06",
   "metadata": {},
   "outputs": [],
   "source": [
    "LABELS = [\"safe\", \"collision\", \"tailgating\", \"weaving\"]\n",
    "FRAMES_PER_SEQ = 30\n",
    "FRAME_INTERVAL = 1\n",
    "\n",
    "INPUT_PATH = \"data/cut/collision.mov\"\n",
    "OUTPUT_PATH = \"output\""
   ]
  },
  {
   "cell_type": "markdown",
   "id": "f5b20c00-6fde-4cd7-b0ab-b85323309bd1",
   "metadata": {},
   "source": [
    "# Initialize"
   ]
  },
  {
   "cell_type": "code",
   "execution_count": 3,
   "id": "b5a1d3c1-92d0-4bb8-bda3-a862c5c9df5a",
   "metadata": {},
   "outputs": [
    {
     "name": "stdout",
     "output_type": "stream",
     "text": [
      "[INFO] Total frames: 2580\n",
      "[INFO] Frame interval: 1\n",
      "[INFO] Frames per sequence: 30\n",
      "[INFO] Frames to write: 2580\n",
      "[INFO] Number of sequences: 86\n"
     ]
    }
   ],
   "source": [
    "# create output directory if it does not exist\n",
    "if not os.path.exists(OUTPUT_PATH):\n",
    "    os.makedirs(OUTPUT_PATH)\n",
    "for label in LABELS:\n",
    "    labeled_folder = os.path.join(OUTPUT_PATH, label)\n",
    "    if not os.path.exists(labeled_folder):\n",
    "        os.makedirs(labeled_folder)\n",
    "\n",
    "# initialize the video stream, pointer to output video file, and frame dimensions\n",
    "vs = cv2.VideoCapture(INPUT_PATH)\n",
    "\n",
    "# some stats\n",
    "num_frames = count_frames(INPUT_PATH)\n",
    "frames_to_write = num_frames//FRAME_INTERVAL\n",
    "print(f\"[INFO] Total frames: {num_frames}\")\n",
    "print(f\"[INFO] Frame interval: {FRAME_INTERVAL}\")\n",
    "print(f\"[INFO] Frames per sequence: {FRAMES_PER_SEQ}\")\n",
    "print(f\"[INFO] Frames to write: {frames_to_write}\")\n",
    "print(f\"[INFO] Number of sequences: {frames_to_write//FRAMES_PER_SEQ}\")"
   ]
  },
  {
   "cell_type": "markdown",
   "id": "7f252d3c-bb0d-4fd7-a404-557e6a9123be",
   "metadata": {},
   "source": [
    "# Extract Frames"
   ]
  },
  {
   "cell_type": "code",
   "execution_count": 4,
   "id": "0f6b2974-6f38-44c5-9336-79584c699de4",
   "metadata": {},
   "outputs": [
    {
     "name": "stdout",
     "output_type": "stream",
     "text": [
      "[INFO] Extracting frames...\n",
      "Wrote 2580/2580                                                                                                                                                                                                                                                                                                                                                                                                                                                                                                                                                                                                                                                                                                                                                                                                                                                                                                                                                                                                                                                                                                                                                                                                                                                                                                                                                                                                                                                                                                                                                                                                                                                                                                                                                                                                                                                                                                                                                                                                                                                                                                                                                                                                                                                                                                                                                                                                                                                                                                                                                                                                                                                                                                                                                                                                                                                                                                                                                                                                                                                                                                                                                                                                                                                                                                                                                                                                                                                                                                                                                                                                                                                                                                                                                                                                                                                                                                   Successfully completed.\n"
     ]
    }
   ],
   "source": [
    "count = 0\n",
    "write_count = 0\n",
    "frames = []\n",
    "\n",
    "print(\"[INFO] Extracting frames...\")\n",
    "\n",
    "while True:\n",
    "    # read the next frame from the file\n",
    "    (grabbed, frame) = vs.read()\n",
    "    \n",
    "    # if the frame was not grabbed, then we have reached the end of the stream\n",
    "    if not grabbed:\n",
    "        break\n",
    "\n",
    "    # stop\n",
    "    if (count >= num_frames):\n",
    "        break\n",
    "\n",
    "    # respect the interval between frames\n",
    "    count += 1\n",
    "    if count % FRAME_INTERVAL == 0:\n",
    "        frames.append(frame)\n",
    "        \n",
    "        # show the frame preview\n",
    "        cv2.imshow(\"Preview\", frame)\n",
    "        key = cv2.waitKey(1) & 0xFF\n",
    "        if key == ord('q'):\n",
    "            break\n",
    "\n",
    "        # write to file\n",
    "        write_count += 1\n",
    "        cv2.imwrite(os.path.join(OUTPUT_PATH, f\"{write_count}.jpg\"), frame)\n",
    "\n",
    "        if count % 10 == 0:\n",
    "            info_string = f\"Wrote {write_count}/{frames_to_write}\"\n",
    "            print(' ' * len(str(info_string)), end='', flush=True)  # Print spaces to erase the previous number\n",
    "            print('\\r', end='', flush=True)  # Move cursor back to the beginning of the line\n",
    "            print(info_string, end='', flush=True)  # Print the new number\n",
    "\n",
    "print(\"Successfully completed.\")"
   ]
  },
  {
   "cell_type": "code",
   "execution_count": null,
   "id": "46cdb7c8-429d-4fbd-9b6c-dc5f95dd48eb",
   "metadata": {},
   "outputs": [],
   "source": []
  }
 ],
 "metadata": {
  "kernelspec": {
   "display_name": "Python 3 (ipykernel)",
   "language": "python",
   "name": "python3"
  },
  "language_info": {
   "codemirror_mode": {
    "name": "ipython",
    "version": 3
   },
   "file_extension": ".py",
   "mimetype": "text/x-python",
   "name": "python",
   "nbconvert_exporter": "python",
   "pygments_lexer": "ipython3",
   "version": "3.11.4"
  }
 },
 "nbformat": 4,
 "nbformat_minor": 5
}
