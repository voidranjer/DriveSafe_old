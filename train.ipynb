{
 "cells": [
  {
   "cell_type": "markdown",
   "id": "19589082-f9dc-44e8-aec7-6951141d7090",
   "metadata": {},
   "source": [
    "# Train the DriveSafe model with RNN (LSTM)\n",
    "\n",
    "- Takes fixed-length video snippets as inputs and produces a label output\n",
    "- Built based on this [towaradsdatascience article](https://towardsdatascience.com/recurrent-neural-networks-by-example-in-python-ffd204f99470)"
   ]
  },
  {
   "cell_type": "code",
   "execution_count": 1,
   "id": "8c5a3415-529f-418d-ba57-841056b38a57",
   "metadata": {},
   "outputs": [],
   "source": [
    "%load_ext autoreload\n",
    "%autoreload 2"
   ]
  },
  {
   "cell_type": "code",
   "execution_count": 2,
   "id": "1269a6cd-0b86-4642-a8a4-700322812a88",
   "metadata": {},
   "outputs": [],
   "source": [
    "from IPython.core.interactiveshell import InteractiveShell\n",
    "# from IPython.display import HTML\n",
    "\n",
    "InteractiveShell.ast_node_interactivity = 'all'"
   ]
  },
  {
   "cell_type": "code",
   "execution_count": 3,
   "id": "c0cd9652-e99e-4b6f-b526-0e269ee832b8",
   "metadata": {},
   "outputs": [],
   "source": [
    "from keras import Model\n",
    "from keras.models import load_model\n",
    "import warnings\n",
    "warnings.filterwarnings('ignore', category = RuntimeWarning)\n",
    "warnings.filterwarnings('ignore', category = UserWarning)\n",
    "\n",
    "# BATCH_SIZE = 2048\n",
    "# RANDOM_STATE = 50\n",
    "\n",
    "import numpy as np"
   ]
  },
  {
   "cell_type": "markdown",
   "id": "642f5717-42d7-4d4d-8669-b8605541bf27",
   "metadata": {},
   "source": [
    "# Create a simple LSTM"
   ]
  },
  {
   "cell_type": "code",
   "execution_count": 4,
   "id": "8071065b-7270-4cfd-b7fa-8ba55303d17b",
   "metadata": {},
   "outputs": [
    {
     "ename": "NameError",
     "evalue": "name 'num_words' is not defined",
     "output_type": "error",
     "traceback": [
      "\u001b[0;31m---------------------------------------------------------------------------\u001b[0m",
      "\u001b[0;31mNameError\u001b[0m                                 Traceback (most recent call last)",
      "Cell \u001b[0;32mIn[4], line 8\u001b[0m\n\u001b[1;32m      4\u001b[0m model \u001b[38;5;241m=\u001b[39m Sequential()\n\u001b[1;32m      6\u001b[0m \u001b[38;5;66;03m# Embedding layer\u001b[39;00m\n\u001b[1;32m      7\u001b[0m model\u001b[38;5;241m.\u001b[39madd(\n\u001b[0;32m----> 8\u001b[0m     Embedding(input_dim\u001b[38;5;241m=\u001b[39m\u001b[43mnum_words\u001b[49m,\n\u001b[1;32m      9\u001b[0m               input_length \u001b[38;5;241m=\u001b[39m training_length,\n\u001b[1;32m     10\u001b[0m               output_dim\u001b[38;5;241m=\u001b[39m\u001b[38;5;241m100\u001b[39m,\n\u001b[1;32m     11\u001b[0m               weights\u001b[38;5;241m=\u001b[39m[embedding_matrix],\n\u001b[1;32m     12\u001b[0m               trainable\u001b[38;5;241m=\u001b[39m\u001b[38;5;28;01mFalse\u001b[39;00m,\n\u001b[1;32m     13\u001b[0m               mask_zero\u001b[38;5;241m=\u001b[39m\u001b[38;5;28;01mTrue\u001b[39;00m))\n\u001b[1;32m     15\u001b[0m \u001b[38;5;66;03m# Masking layer for pre-trained embeddings\u001b[39;00m\n\u001b[1;32m     16\u001b[0m model\u001b[38;5;241m.\u001b[39madd(Masking(mask_value\u001b[38;5;241m=\u001b[39m\u001b[38;5;241m0.0\u001b[39m))\n",
      "\u001b[0;31mNameError\u001b[0m: name 'num_words' is not defined"
     ]
    }
   ],
   "source": [
    "from keras.models import Sequential\n",
    "from keras.layers import LSTM, Dense, Dropout, Masking, Embedding\n",
    "\n",
    "model = Sequential()\n",
    "\n",
    "# Embedding layer\n",
    "model.add(\n",
    "    Embedding(input_dim=num_words,\n",
    "              input_length = training_length,\n",
    "              output_dim=100,\n",
    "              weights=[embedding_matrix],\n",
    "              trainable=False,\n",
    "              mask_zero=True))\n",
    "\n",
    "# Masking layer for pre-trained embeddings\n",
    "model.add(Masking(mask_value=0.0))\n",
    "\n",
    "# Recurrent layer\n",
    "model.add(LSTM(64, return_sequences=False, \n",
    "               dropout=0.1, recurrent_dropout=0.1))\n",
    "\n",
    "# Fully connected layer\n",
    "model.add(Dense(64, activation='relu'))\n",
    "\n",
    "# Dropout for regularization\n",
    "model.add(Dropout(0.5))\n",
    "\n",
    "# Output layer\n",
    "model.add(Dense(num_words, activation='softmax'))\n",
    "\n",
    "# Compile the model\n",
    "model.compile(\n",
    "    optimizer='adam', loss='categorical_crossentropy', metrics=['accuracy'])"
   ]
  },
  {
   "cell_type": "markdown",
   "id": "f19e3b2a-bb89-4ede-b370-cba9f1952c41",
   "metadata": {},
   "source": [
    "# Early-stopping and Checkpoints\n",
    "Patience sets how many epochs to run for before stopping (if no more improvements are made)"
   ]
  },
  {
   "cell_type": "code",
   "execution_count": 21,
   "id": "28dee34f-33f9-48b8-b8da-84c6693e9ca1",
   "metadata": {},
   "outputs": [],
   "source": [
    "from keras.callbacks import EarlyStopping, ModelCheckpoint\n",
    "\n",
    "# Create callbacks\n",
    "callbacks = [EarlyStopping(monitor='val_loss', patience=5),\n",
    "             ModelCheckpoint('./model/checkpoint.keras', save_best_only=True, save_weights_only=False)]"
   ]
  },
  {
   "cell_type": "markdown",
   "id": "5e6aea3e-fe60-41be-9484-db67c71acc54",
   "metadata": {},
   "source": [
    "# Train the model"
   ]
  },
  {
   "cell_type": "code",
   "execution_count": 17,
   "id": "955eaaf2-b9d7-4cc7-817e-3c32ed2c2729",
   "metadata": {},
   "outputs": [
    {
     "ename": "NameError",
     "evalue": "name 'model' is not defined",
     "output_type": "error",
     "traceback": [
      "\u001b[0;31m---------------------------------------------------------------------------\u001b[0m",
      "\u001b[0;31mNameError\u001b[0m                                 Traceback (most recent call last)",
      "Cell \u001b[0;32mIn[17], line 1\u001b[0m\n\u001b[0;32m----> 1\u001b[0m history \u001b[38;5;241m=\u001b[39m \u001b[43mmodel\u001b[49m\u001b[38;5;241m.\u001b[39mfit(X_train,  y_train, \n\u001b[1;32m      2\u001b[0m                     batch_size\u001b[38;5;241m=\u001b[39m\u001b[38;5;241m2048\u001b[39m, epochs\u001b[38;5;241m=\u001b[39m\u001b[38;5;241m150\u001b[39m,\n\u001b[1;32m      3\u001b[0m                     callbacks\u001b[38;5;241m=\u001b[39mcallbacks,\n\u001b[1;32m      4\u001b[0m                     validation_data\u001b[38;5;241m=\u001b[39m(X_valid, y_valid))\n",
      "\u001b[0;31mNameError\u001b[0m: name 'model' is not defined"
     ]
    }
   ],
   "source": [
    "history = model.fit(X_train,  y_train, \n",
    "                    batch_size=2048, epochs=150,\n",
    "                    callbacks=callbacks,\n",
    "                    validation_data=(X_valid, y_valid))"
   ]
  }
 ],
 "metadata": {
  "kernelspec": {
   "display_name": "Python 3 (ipykernel)",
   "language": "python",
   "name": "python3"
  },
  "language_info": {
   "codemirror_mode": {
    "name": "ipython",
    "version": 3
   },
   "file_extension": ".py",
   "mimetype": "text/x-python",
   "name": "python",
   "nbconvert_exporter": "python",
   "pygments_lexer": "ipython3",
   "version": "3.11.4"
  }
 },
 "nbformat": 4,
 "nbformat_minor": 5
}
